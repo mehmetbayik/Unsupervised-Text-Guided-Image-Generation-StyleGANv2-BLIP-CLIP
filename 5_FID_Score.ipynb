{
  "cells": [
    {
      "cell_type": "code",
      "execution_count": 1,
      "metadata": {
        "colab": {
          "base_uri": "https://localhost:8080/"
        },
        "id": "oJQncnNRmwK_",
        "outputId": "08ed09d3-a286-47fc-a998-2d69644f259d"
      },
      "outputs": [
        {
          "output_type": "stream",
          "name": "stdout",
          "text": [
            "Collecting clean-fid\n",
            "  Downloading clean_fid-0.1.35-py3-none-any.whl (26 kB)\n",
            "Requirement already satisfied: torch in /usr/local/lib/python3.10/dist-packages (from clean-fid) (2.2.1+cu121)\n",
            "Requirement already satisfied: torchvision in /usr/local/lib/python3.10/dist-packages (from clean-fid) (0.17.1+cu121)\n",
            "Requirement already satisfied: numpy>=1.14.3 in /usr/local/lib/python3.10/dist-packages (from clean-fid) (1.25.2)\n",
            "Requirement already satisfied: scipy>=1.0.1 in /usr/local/lib/python3.10/dist-packages (from clean-fid) (1.11.4)\n",
            "Requirement already satisfied: tqdm>=4.28.1 in /usr/local/lib/python3.10/dist-packages (from clean-fid) (4.66.4)\n",
            "Requirement already satisfied: pillow>=8.1 in /usr/local/lib/python3.10/dist-packages (from clean-fid) (9.4.0)\n",
            "Requirement already satisfied: requests in /usr/local/lib/python3.10/dist-packages (from clean-fid) (2.31.0)\n",
            "Requirement already satisfied: charset-normalizer<4,>=2 in /usr/local/lib/python3.10/dist-packages (from requests->clean-fid) (3.3.2)\n",
            "Requirement already satisfied: idna<4,>=2.5 in /usr/local/lib/python3.10/dist-packages (from requests->clean-fid) (3.7)\n",
            "Requirement already satisfied: urllib3<3,>=1.21.1 in /usr/local/lib/python3.10/dist-packages (from requests->clean-fid) (2.0.7)\n",
            "Requirement already satisfied: certifi>=2017.4.17 in /usr/local/lib/python3.10/dist-packages (from requests->clean-fid) (2024.2.2)\n",
            "Requirement already satisfied: filelock in /usr/local/lib/python3.10/dist-packages (from torch->clean-fid) (3.14.0)\n",
            "Requirement already satisfied: typing-extensions>=4.8.0 in /usr/local/lib/python3.10/dist-packages (from torch->clean-fid) (4.11.0)\n",
            "Requirement already satisfied: sympy in /usr/local/lib/python3.10/dist-packages (from torch->clean-fid) (1.12)\n",
            "Requirement already satisfied: networkx in /usr/local/lib/python3.10/dist-packages (from torch->clean-fid) (3.3)\n",
            "Requirement already satisfied: jinja2 in /usr/local/lib/python3.10/dist-packages (from torch->clean-fid) (3.1.4)\n",
            "Requirement already satisfied: fsspec in /usr/local/lib/python3.10/dist-packages (from torch->clean-fid) (2023.6.0)\n",
            "Collecting nvidia-cuda-nvrtc-cu12==12.1.105 (from torch->clean-fid)\n",
            "  Using cached nvidia_cuda_nvrtc_cu12-12.1.105-py3-none-manylinux1_x86_64.whl (23.7 MB)\n",
            "Collecting nvidia-cuda-runtime-cu12==12.1.105 (from torch->clean-fid)\n",
            "  Using cached nvidia_cuda_runtime_cu12-12.1.105-py3-none-manylinux1_x86_64.whl (823 kB)\n",
            "Collecting nvidia-cuda-cupti-cu12==12.1.105 (from torch->clean-fid)\n",
            "  Using cached nvidia_cuda_cupti_cu12-12.1.105-py3-none-manylinux1_x86_64.whl (14.1 MB)\n",
            "Collecting nvidia-cudnn-cu12==8.9.2.26 (from torch->clean-fid)\n",
            "  Using cached nvidia_cudnn_cu12-8.9.2.26-py3-none-manylinux1_x86_64.whl (731.7 MB)\n",
            "Collecting nvidia-cublas-cu12==12.1.3.1 (from torch->clean-fid)\n",
            "  Using cached nvidia_cublas_cu12-12.1.3.1-py3-none-manylinux1_x86_64.whl (410.6 MB)\n",
            "Collecting nvidia-cufft-cu12==11.0.2.54 (from torch->clean-fid)\n",
            "  Using cached nvidia_cufft_cu12-11.0.2.54-py3-none-manylinux1_x86_64.whl (121.6 MB)\n",
            "Collecting nvidia-curand-cu12==10.3.2.106 (from torch->clean-fid)\n",
            "  Using cached nvidia_curand_cu12-10.3.2.106-py3-none-manylinux1_x86_64.whl (56.5 MB)\n",
            "Collecting nvidia-cusolver-cu12==11.4.5.107 (from torch->clean-fid)\n",
            "  Using cached nvidia_cusolver_cu12-11.4.5.107-py3-none-manylinux1_x86_64.whl (124.2 MB)\n",
            "Collecting nvidia-cusparse-cu12==12.1.0.106 (from torch->clean-fid)\n",
            "  Using cached nvidia_cusparse_cu12-12.1.0.106-py3-none-manylinux1_x86_64.whl (196.0 MB)\n",
            "Collecting nvidia-nccl-cu12==2.19.3 (from torch->clean-fid)\n",
            "  Using cached nvidia_nccl_cu12-2.19.3-py3-none-manylinux1_x86_64.whl (166.0 MB)\n",
            "Collecting nvidia-nvtx-cu12==12.1.105 (from torch->clean-fid)\n",
            "  Using cached nvidia_nvtx_cu12-12.1.105-py3-none-manylinux1_x86_64.whl (99 kB)\n",
            "Requirement already satisfied: triton==2.2.0 in /usr/local/lib/python3.10/dist-packages (from torch->clean-fid) (2.2.0)\n",
            "Collecting nvidia-nvjitlink-cu12 (from nvidia-cusolver-cu12==11.4.5.107->torch->clean-fid)\n",
            "  Using cached nvidia_nvjitlink_cu12-12.4.127-py3-none-manylinux2014_x86_64.whl (21.1 MB)\n",
            "Requirement already satisfied: MarkupSafe>=2.0 in /usr/local/lib/python3.10/dist-packages (from jinja2->torch->clean-fid) (2.1.5)\n",
            "Requirement already satisfied: mpmath>=0.19 in /usr/local/lib/python3.10/dist-packages (from sympy->torch->clean-fid) (1.3.0)\n",
            "Installing collected packages: nvidia-nvtx-cu12, nvidia-nvjitlink-cu12, nvidia-nccl-cu12, nvidia-curand-cu12, nvidia-cufft-cu12, nvidia-cuda-runtime-cu12, nvidia-cuda-nvrtc-cu12, nvidia-cuda-cupti-cu12, nvidia-cublas-cu12, nvidia-cusparse-cu12, nvidia-cudnn-cu12, nvidia-cusolver-cu12, clean-fid\n",
            "Successfully installed clean-fid-0.1.35 nvidia-cublas-cu12-12.1.3.1 nvidia-cuda-cupti-cu12-12.1.105 nvidia-cuda-nvrtc-cu12-12.1.105 nvidia-cuda-runtime-cu12-12.1.105 nvidia-cudnn-cu12-8.9.2.26 nvidia-cufft-cu12-11.0.2.54 nvidia-curand-cu12-10.3.2.106 nvidia-cusolver-cu12-11.4.5.107 nvidia-cusparse-cu12-12.1.0.106 nvidia-nccl-cu12-2.19.3 nvidia-nvjitlink-cu12-12.4.127 nvidia-nvtx-cu12-12.1.105\n",
            "Collecting pytorch-fid\n",
            "  Downloading pytorch_fid-0.3.0-py3-none-any.whl (15 kB)\n",
            "Requirement already satisfied: numpy in /usr/local/lib/python3.10/dist-packages (from pytorch-fid) (1.25.2)\n",
            "Requirement already satisfied: pillow in /usr/local/lib/python3.10/dist-packages (from pytorch-fid) (9.4.0)\n",
            "Requirement already satisfied: scipy in /usr/local/lib/python3.10/dist-packages (from pytorch-fid) (1.11.4)\n",
            "Requirement already satisfied: torch>=1.0.1 in /usr/local/lib/python3.10/dist-packages (from pytorch-fid) (2.2.1+cu121)\n",
            "Requirement already satisfied: torchvision>=0.2.2 in /usr/local/lib/python3.10/dist-packages (from pytorch-fid) (0.17.1+cu121)\n",
            "Requirement already satisfied: filelock in /usr/local/lib/python3.10/dist-packages (from torch>=1.0.1->pytorch-fid) (3.14.0)\n",
            "Requirement already satisfied: typing-extensions>=4.8.0 in /usr/local/lib/python3.10/dist-packages (from torch>=1.0.1->pytorch-fid) (4.11.0)\n",
            "Requirement already satisfied: sympy in /usr/local/lib/python3.10/dist-packages (from torch>=1.0.1->pytorch-fid) (1.12)\n",
            "Requirement already satisfied: networkx in /usr/local/lib/python3.10/dist-packages (from torch>=1.0.1->pytorch-fid) (3.3)\n",
            "Requirement already satisfied: jinja2 in /usr/local/lib/python3.10/dist-packages (from torch>=1.0.1->pytorch-fid) (3.1.4)\n",
            "Requirement already satisfied: fsspec in /usr/local/lib/python3.10/dist-packages (from torch>=1.0.1->pytorch-fid) (2023.6.0)\n",
            "Requirement already satisfied: nvidia-cuda-nvrtc-cu12==12.1.105 in /usr/local/lib/python3.10/dist-packages (from torch>=1.0.1->pytorch-fid) (12.1.105)\n",
            "Requirement already satisfied: nvidia-cuda-runtime-cu12==12.1.105 in /usr/local/lib/python3.10/dist-packages (from torch>=1.0.1->pytorch-fid) (12.1.105)\n",
            "Requirement already satisfied: nvidia-cuda-cupti-cu12==12.1.105 in /usr/local/lib/python3.10/dist-packages (from torch>=1.0.1->pytorch-fid) (12.1.105)\n",
            "Requirement already satisfied: nvidia-cudnn-cu12==8.9.2.26 in /usr/local/lib/python3.10/dist-packages (from torch>=1.0.1->pytorch-fid) (8.9.2.26)\n",
            "Requirement already satisfied: nvidia-cublas-cu12==12.1.3.1 in /usr/local/lib/python3.10/dist-packages (from torch>=1.0.1->pytorch-fid) (12.1.3.1)\n",
            "Requirement already satisfied: nvidia-cufft-cu12==11.0.2.54 in /usr/local/lib/python3.10/dist-packages (from torch>=1.0.1->pytorch-fid) (11.0.2.54)\n",
            "Requirement already satisfied: nvidia-curand-cu12==10.3.2.106 in /usr/local/lib/python3.10/dist-packages (from torch>=1.0.1->pytorch-fid) (10.3.2.106)\n",
            "Requirement already satisfied: nvidia-cusolver-cu12==11.4.5.107 in /usr/local/lib/python3.10/dist-packages (from torch>=1.0.1->pytorch-fid) (11.4.5.107)\n",
            "Requirement already satisfied: nvidia-cusparse-cu12==12.1.0.106 in /usr/local/lib/python3.10/dist-packages (from torch>=1.0.1->pytorch-fid) (12.1.0.106)\n",
            "Requirement already satisfied: nvidia-nccl-cu12==2.19.3 in /usr/local/lib/python3.10/dist-packages (from torch>=1.0.1->pytorch-fid) (2.19.3)\n",
            "Requirement already satisfied: nvidia-nvtx-cu12==12.1.105 in /usr/local/lib/python3.10/dist-packages (from torch>=1.0.1->pytorch-fid) (12.1.105)\n",
            "Requirement already satisfied: triton==2.2.0 in /usr/local/lib/python3.10/dist-packages (from torch>=1.0.1->pytorch-fid) (2.2.0)\n",
            "Requirement already satisfied: nvidia-nvjitlink-cu12 in /usr/local/lib/python3.10/dist-packages (from nvidia-cusolver-cu12==11.4.5.107->torch>=1.0.1->pytorch-fid) (12.4.127)\n",
            "Requirement already satisfied: MarkupSafe>=2.0 in /usr/local/lib/python3.10/dist-packages (from jinja2->torch>=1.0.1->pytorch-fid) (2.1.5)\n",
            "Requirement already satisfied: mpmath>=0.19 in /usr/local/lib/python3.10/dist-packages (from sympy->torch>=1.0.1->pytorch-fid) (1.3.0)\n",
            "Installing collected packages: pytorch-fid\n",
            "Successfully installed pytorch-fid-0.3.0\n",
            "Downloading...\n",
            "From (original): https://drive.google.com/uc?id=1JtRIbZDuZlBEA6vp870eW3ei0r32uYqF\n",
            "From (redirected): https://drive.google.com/uc?id=1JtRIbZDuZlBEA6vp870eW3ei0r32uYqF&confirm=t&uuid=d9be5314-ce9e-4954-9455-89243c6218f0\n",
            "To: /content/dataset.zip\n",
            "100% 852M/852M [00:05<00:00, 165MB/s]\n",
            "Downloading...\n",
            "From (original): https://drive.google.com/uc?id=1-KHWXHULA6LhKqmuhnx57ZaIOGT7rM0d\n",
            "From (redirected): https://drive.google.com/uc?id=1-KHWXHULA6LhKqmuhnx57ZaIOGT7rM0d&confirm=t&uuid=76bb74f3-3422-43d7-b04a-cd9e05e3b63c\n",
            "To: /content/stylegan2-db.zip\n",
            "100% 797M/797M [00:06<00:00, 115MB/s]\n",
            "Downloading...\n",
            "From (original): https://drive.google.com/uc?id=1yh5zYzs0Z4mS9Ra1vz02gsyjZKWYk_j7\n",
            "From (redirected): https://drive.google.com/uc?id=1yh5zYzs0Z4mS9Ra1vz02gsyjZKWYk_j7&confirm=t&uuid=28fef7b8-2b91-4685-a06e-86010d267c69\n",
            "To: /content/dalle-mini-vqgan.zip\n",
            "100% 216M/216M [00:01<00:00, 138MB/s]\n",
            "Downloading...\n",
            "From (original): https://drive.google.com/uc?id=1RtYQzK6U41FZdbFN2T0wN4m2udH7yrNX\n",
            "From (redirected): https://drive.google.com/uc?id=1RtYQzK6U41FZdbFN2T0wN4m2udH7yrNX&confirm=t&uuid=784ba57c-837e-4e51-94da-8db01ae5edc6\n",
            "To: /content/dalle2.zip\n",
            "100% 210M/210M [00:03<00:00, 66.5MB/s]\n",
            "Failed to retrieve file url:\n",
            "\n",
            "\tCannot retrieve the public link of the file. You may need to change\n",
            "\tthe permission to 'Anyone with the link', or have had many accesses.\n",
            "\tCheck FAQ in https://github.com/wkentaro/gdown?tab=readme-ov-file#faq.\n",
            "\n",
            "You may still be able to access the file from the browser:\n",
            "\n",
            "\thttps://drive.google.com/uc?id=1qVu0aC_YFJKWFxV9_uqyXHsR84TuNPJz\n",
            "\n",
            "but Gdown can't. Please check connections and permissions.\n",
            "unzip:  cannot find or open stable-diffusion.zip, stable-diffusion.zip.zip or stable-diffusion.zip.ZIP.\n",
            "Failed to retrieve file url:\n",
            "\n",
            "\tToo many users have viewed or downloaded this file recently. Please\n",
            "\ttry accessing the file again later. If the file you are trying to\n",
            "\taccess is particularly large or is shared with many people, it may\n",
            "\ttake up to 24 hours to be able to view or download the file. If you\n",
            "\tstill can't access a file after 24 hours, contact your domain\n",
            "\tadministrator.\n",
            "\n",
            "You may still be able to access the file from the browser:\n",
            "\n",
            "\thttps://drive.google.com/uc?id=1OWkk7Fm5SnVHu7VEOtxEiN8K3P2Sbi6y\n",
            "\n",
            "but Gdown can't. Please check connections and permissions.\n",
            "unzip:  cannot find or open faces_dataset_small.zip, faces_dataset_small.zip.zip or faces_dataset_small.zip.ZIP.\n"
          ]
        }
      ],
      "source": [
        "# clean-fid only works with cuda enabled devices\n",
        "!pip install clean-fid\n",
        "!pip install pytorch-fid\n",
        "\n",
        "# Download dataset:\n",
        "!gdown -O dataset.zip https://drive.google.com/uc?id=1JtRIbZDuZlBEA6vp870eW3ei0r32uYqF\n",
        "# https://drive.google.com/file/d/1JtRIbZDuZlBEA6vp870eW3ei0r32uYqF/view?usp=sharing\n",
        "!unzip -q dataset.zip\n",
        "\n",
        "# Download stylegan2-db inference output:\n",
        "!gdown -O stylegan2-db.zip https://drive.google.com/uc?id=1-KHWXHULA6LhKqmuhnx57ZaIOGT7rM0d\n",
        "# https://drive.google.com/file/d/1-KHWXHULA6LhKqmuhnx57ZaIOGT7rM0d/view?usp=sharing\n",
        "!unzip -q stylegan2-db.zip\n",
        "\n",
        "# Download dalle-mini-vqgan inference output:\n",
        "!gdown -O dalle-mini-vqgan.zip https://drive.google.com/uc?id=1yh5zYzs0Z4mS9Ra1vz02gsyjZKWYk_j7\n",
        "# https://drive.google.com/file/d/1yh5zYzs0Z4mS9Ra1vz02gsyjZKWYk_j7/view?usp=sharing\n",
        "!unzip -q dalle-mini-vqgan.zip\n",
        "\n",
        "# Download dalle-2 inference output:\n",
        "!gdown -O dalle2.zip https://drive.google.com/uc?id=1RtYQzK6U41FZdbFN2T0wN4m2udH7yrNX\n",
        "# https://drive.google.com/file/d/1RtYQzK6U41FZdbFN2T0wN4m2udH7yrNX/view?usp=share_link\n",
        "!unzip -q dalle2.zip\n",
        "\n",
        "# Download Stable Diffusion Inference output:\n",
        "!gdown -O stable-diffusion.zip https://drive.google.com/uc?id=1qVu0aC_YFJKWFxV9_uqyXHsR84TuNPJz\n",
        "#https://drive.google.com/file/d/1qVu0aC_YFJKWFxV9_uqyXHsR84TuNPJz/view?usp=sharing\n",
        "!unzip -q stable-diffusion.zip\n",
        "\n",
        "# Download FFHQ Dataset:\n",
        "!gdown -O faces_dataset_small.zip https://drive.google.com/uc?id=1OWkk7Fm5SnVHu7VEOtxEiN8K3P2Sbi6y\n",
        "# https://drive.google.com/file/d/1OWkk7Fm5SnVHu7VEOtxEiN8K3P2Sbi6y/view?usp=share_link\n",
        "!unzip -q faces_dataset_small.zip -d ffhq"
      ]
    },
    {
      "cell_type": "code",
      "source": [
        "# Gdown alternative:\n",
        "# mount google drive\n",
        "from google.colab import drive\n",
        "drive.mount('/content/drive')"
      ],
      "metadata": {
        "colab": {
          "base_uri": "https://localhost:8080/"
        },
        "id": "3ZtZqrfk_duV",
        "outputId": "588da980-5efd-4142-d3fa-9f391df7cf20"
      },
      "execution_count": 6,
      "outputs": [
        {
          "output_type": "stream",
          "name": "stdout",
          "text": [
            "Mounted at /content/drive\n"
          ]
        }
      ]
    },
    {
      "cell_type": "code",
      "source": [
        "!cp -r /content/drive/MyDrive/faces_dataset_small.zip /content/faces_dataset_small.zip"
      ],
      "metadata": {
        "id": "S-q3c1trAdPd"
      },
      "execution_count": 7,
      "outputs": []
    },
    {
      "cell_type": "code",
      "source": [
        "!unzip -q faces_dataset_small.zip -d ffhq"
      ],
      "metadata": {
        "id": "84x2sJojA9Jz"
      },
      "execution_count": 8,
      "outputs": []
    },
    {
      "cell_type": "code",
      "execution_count": 9,
      "metadata": {
        "colab": {
          "base_uri": "https://localhost:8080/"
        },
        "id": "9LB7BdrpiatE",
        "outputId": "c21b3b9e-b180-4c5a-c9e9-4d295e2e21fd"
      },
      "outputs": [
        {
          "output_type": "execute_result",
          "data": {
            "text/plain": [
              "(2048, 2048, 128, 2048, 3143)"
            ]
          },
          "metadata": {},
          "execution_count": 9
        }
      ],
      "source": [
        "import os\n",
        "len(os.listdir('stylegan2-db')), len(os.listdir('dalle-mini-vqgan')), len(os.listdir('dalle2')),len(os.listdir('stable-diffusion')),len(os.listdir('ffhq'))"
      ]
    },
    {
      "cell_type": "code",
      "execution_count": null,
      "metadata": {
        "colab": {
          "base_uri": "https://localhost:8080/"
        },
        "id": "B1yygyOfWdpK",
        "outputId": "031ea156-6971-46bc-9db6-b259be110f4c"
      },
      "outputs": [
        {
          "output_type": "stream",
          "name": "stdout",
          "text": [
            "compute FID of a folder with FFHQ statistics\n",
            "downloading statistics to /usr/local/lib/python3.10/dist-packages/cleanfid/stats/ffhq_clean_trainval70k_256.npz\n"
          ]
        },
        {
          "output_type": "stream",
          "name": "stderr",
          "text": [
            "/usr/local/lib/python3.10/dist-packages/torch/utils/data/dataloader.py:558: UserWarning: This DataLoader will create 12 worker processes in total. Our suggested max number of worker in current system is 8, which is smaller than what this DataLoader is going to create. Please be aware that excessive worker creation might get DataLoader running slow or even freeze, lower the worker number to avoid potential slowness/freeze if necessary.\n",
            "  warnings.warn(_create_warning_msg(\n"
          ]
        },
        {
          "output_type": "stream",
          "name": "stdout",
          "text": [
            "Found 2048 images in the folder stylegan2-db/\n"
          ]
        },
        {
          "output_type": "stream",
          "name": "stderr",
          "text": [
            "\rFID  :   0%|          | 0/64 [00:00<?, ?it/s]/usr/lib/python3.10/multiprocessing/popen_fork.py:66: RuntimeWarning: os.fork() was called. os.fork() is incompatible with multithreaded code, and JAX is multithreaded, so this will likely lead to a deadlock.\n",
            "  self.pid = os.fork()\n",
            "FID  : 100%|██████████| 64/64 [00:19<00:00,  3.22it/s]\n"
          ]
        },
        {
          "output_type": "stream",
          "name": "stdout",
          "text": [
            "FFHQ FID Score is: 99.89981222184488\n"
          ]
        }
      ],
      "source": [
        "# StyleGANv2 our model:\n",
        "# FID Score between the generated images and the FFHQ dataset (256x256) or (1024x1024)\n",
        "from cleanfid import fid\n",
        "fdir1 = 'stylegan2-db/'\n",
        "score_FFHQ = fid.compute_fid(fdir1, dataset_name=\"FFHQ\", dataset_res=256, dataset_split=\"trainval70k\")\n",
        "print('FFHQ FID Score is: '+ str(score_FFHQ))"
      ]
    },
    {
      "cell_type": "code",
      "source": [
        "# StyleGANv2 our model:\n",
        "# FID Score between the generated images and the FFHQ dataset 3300 images only\n",
        "from cleanfid import fid\n",
        "fdir1 = 'stylegan2-db/'\n",
        "fdir2 = 'ffhq/'\n",
        "score_FFHQ = fid.compute_fid(fdir1, fdir2)\n",
        "score_KID = fid.compute_kid(fdir1, fdir2)\n",
        "print('FFHQ FID Score is: '+ str(score_FFHQ))\n",
        "print('KID FID Score is: '+ str(score_KID))"
      ],
      "metadata": {
        "colab": {
          "base_uri": "https://localhost:8080/"
        },
        "id": "xBRKQwjfXHqv",
        "outputId": "2b1f7476-25a0-4668-c5e8-85a2cf1d0ca0"
      },
      "execution_count": 2,
      "outputs": [
        {
          "output_type": "stream",
          "name": "stdout",
          "text": [
            "compute FID between two folders\n",
            "Found 2048 images in the folder stylegan2-db/\n"
          ]
        },
        {
          "output_type": "stream",
          "name": "stderr",
          "text": [
            "\rFID  :   0%|          | 0/64 [00:00<?, ?it/s]/usr/lib/python3.10/multiprocessing/popen_fork.py:66: RuntimeWarning: os.fork() was called. os.fork() is incompatible with multithreaded code, and JAX is multithreaded, so this will likely lead to a deadlock.\n",
            "  self.pid = os.fork()\n",
            "FID  : 100%|██████████| 64/64 [00:12<00:00,  5.04it/s]\n"
          ]
        },
        {
          "output_type": "stream",
          "name": "stdout",
          "text": [
            "Found 3143 images in the folder ffhq/\n"
          ]
        },
        {
          "output_type": "stream",
          "name": "stderr",
          "text": [
            "FID  : 100%|██████████| 99/99 [00:28<00:00,  3.45it/s]\n"
          ]
        },
        {
          "output_type": "stream",
          "name": "stdout",
          "text": [
            "compute KID between two folders\n",
            "Found 2048 images in the folder stylegan2-db/\n"
          ]
        },
        {
          "output_type": "stream",
          "name": "stderr",
          "text": [
            "KID  : 100%|██████████| 64/64 [00:12<00:00,  5.18it/s]\n"
          ]
        },
        {
          "output_type": "stream",
          "name": "stdout",
          "text": [
            "Found 3143 images in the folder ffhq/\n"
          ]
        },
        {
          "output_type": "stream",
          "name": "stderr",
          "text": [
            "KID  : 100%|██████████| 99/99 [00:28<00:00,  3.50it/s]\n"
          ]
        },
        {
          "output_type": "stream",
          "name": "stdout",
          "text": [
            "FFHQ FID Score is: 103.86777310733567\n",
            "KID FID Score is: 0.08002402212962963\n"
          ]
        }
      ]
    },
    {
      "cell_type": "code",
      "source": [
        "# DALLE mini + VQGAN model:\n",
        "# FID Score between the generated images and the FFHQ dataset (256x256) or (1024x1024)\n",
        "from cleanfid import fid\n",
        "fdir1 = 'dalle-mini-vqgan/'\n",
        "score_FFHQ = fid.compute_fid(fdir1, dataset_name=\"FFHQ\", dataset_res=256, dataset_split=\"trainval70k\")\n",
        "print('FFHQ FID Score is: '+ str(score_FFHQ))"
      ],
      "metadata": {
        "colab": {
          "base_uri": "https://localhost:8080/"
        },
        "id": "vhqlQxVlxDgw",
        "outputId": "e8e619fc-0cfa-45a2-f3da-d9fcfc877076"
      },
      "execution_count": 3,
      "outputs": [
        {
          "output_type": "stream",
          "name": "stdout",
          "text": [
            "compute FID of a folder with FFHQ statistics\n",
            "downloading statistics to /usr/local/lib/python3.10/dist-packages/cleanfid/stats/ffhq_clean_trainval70k_256.npz\n",
            "Found 2048 images in the folder dalle-mini-vqgan/\n"
          ]
        },
        {
          "output_type": "stream",
          "name": "stderr",
          "text": [
            "FID  : 100%|██████████| 64/64 [00:11<00:00,  5.77it/s]\n"
          ]
        },
        {
          "output_type": "stream",
          "name": "stdout",
          "text": [
            "FFHQ FID Score is: 66.96537563287478\n"
          ]
        }
      ]
    },
    {
      "cell_type": "code",
      "source": [
        "# DALLE mini + VQGAN model:\n",
        "# FID Score between the generated images and the FFHQ dataset (256x256) or (1024x1024)\n",
        "from cleanfid import fid\n",
        "fdir1 = 'dalle-mini-vqgan/'\n",
        "fdir2 = 'ffhq/'\n",
        "score_FFHQ = fid.compute_fid(fdir1, fdir2)\n",
        "score_KID = fid.compute_kid(fdir1, fdir2)\n",
        "\n",
        "print('FFHQ FID Score is: '+ str(score_FFHQ))\n",
        "print('KID FID Score is: '+ str(score_KID))"
      ],
      "metadata": {
        "colab": {
          "base_uri": "https://localhost:8080/"
        },
        "id": "tnXI1DwwXmxr",
        "outputId": "8ff0173e-95af-4191-9a41-fb224f7dbb9b"
      },
      "execution_count": 4,
      "outputs": [
        {
          "output_type": "stream",
          "name": "stdout",
          "text": [
            "compute FID between two folders\n",
            "Found 2048 images in the folder dalle-mini-vqgan/\n"
          ]
        },
        {
          "output_type": "stream",
          "name": "stderr",
          "text": [
            "FID  : 100%|██████████| 64/64 [00:11<00:00,  5.72it/s]\n"
          ]
        },
        {
          "output_type": "stream",
          "name": "stdout",
          "text": [
            "Found 3143 images in the folder ffhq/\n"
          ]
        },
        {
          "output_type": "stream",
          "name": "stderr",
          "text": [
            "FID  : 100%|██████████| 99/99 [00:27<00:00,  3.61it/s]\n"
          ]
        },
        {
          "output_type": "stream",
          "name": "stdout",
          "text": [
            "compute KID between two folders\n",
            "Found 2048 images in the folder dalle-mini-vqgan/\n"
          ]
        },
        {
          "output_type": "stream",
          "name": "stderr",
          "text": [
            "KID  : 100%|██████████| 64/64 [00:11<00:00,  5.63it/s]\n"
          ]
        },
        {
          "output_type": "stream",
          "name": "stdout",
          "text": [
            "Found 3143 images in the folder ffhq/\n"
          ]
        },
        {
          "output_type": "stream",
          "name": "stderr",
          "text": [
            "KID  : 100%|██████████| 99/99 [00:28<00:00,  3.42it/s]\n"
          ]
        },
        {
          "output_type": "stream",
          "name": "stdout",
          "text": [
            "FFHQ FID Score is: 73.11441173478909\n",
            "KID FID Score is: 0.04314679078578578\n"
          ]
        }
      ]
    },
    {
      "cell_type": "code",
      "source": [
        "# DALLE2 model:\n",
        "# FID Score between the generated images and the FFHQ dataset (256x256) or (1024x1024)\n",
        "from cleanfid import fid\n",
        "fdir1 = 'dalle2/'\n",
        "fdir2 = 'ffhq/'\n",
        "#score_FFHQ = fid.compute_fid(fdir1, dataset_name=\"FFHQ\", dataset_res=256, dataset_split=\"trainval70k\")\n",
        "score_KID = fid.compute_kid(fdir1, fdir2)\n",
        "#print('FFHQ FID Score is: '+ str(score_FFHQ))\n",
        "print('KID FID Score is: '+ str(score_KID))"
      ],
      "metadata": {
        "colab": {
          "base_uri": "https://localhost:8080/"
        },
        "id": "VsdTY7FB374y",
        "outputId": "c90cfec5-b4bf-414d-8b5f-4e583607a290"
      },
      "execution_count": 5,
      "outputs": [
        {
          "output_type": "stream",
          "name": "stdout",
          "text": [
            "compute KID between two folders\n",
            "Found 128 images in the folder dalle2/\n"
          ]
        },
        {
          "output_type": "stream",
          "name": "stderr",
          "text": [
            "KID  : 100%|██████████| 4/4 [00:09<00:00,  2.41s/it]\n"
          ]
        },
        {
          "output_type": "stream",
          "name": "stdout",
          "text": [
            "Found 3143 images in the folder ffhq/\n"
          ]
        },
        {
          "output_type": "stream",
          "name": "stderr",
          "text": [
            "KID  : 100%|██████████| 99/99 [00:27<00:00,  3.59it/s]\n"
          ]
        },
        {
          "output_type": "stream",
          "name": "stdout",
          "text": [
            "KID FID Score is: 0.04072161655726395\n"
          ]
        }
      ]
    },
    {
      "cell_type": "code",
      "source": [
        "# Stable Diffusion v1.4 Model:\n",
        "# FID Score between the generated images and the FFHQ dataset (256x256) or (1024x1024)\n",
        "from cleanfid import fid\n",
        "fdir1 = 'stable-diffusion/'\n",
        "score_FFHQ = fid.compute_fid(fdir1, dataset_name=\"FFHQ\", dataset_res=256, dataset_split=\"trainval70k\")\n",
        "print('FFHQ FID Score is: '+ str(score_FFHQ))"
      ],
      "metadata": {
        "colab": {
          "base_uri": "https://localhost:8080/"
        },
        "id": "F5oeQyBW_BZo",
        "outputId": "a81cf07d-95b7-4e64-9abf-ca2c3e9ef500"
      },
      "execution_count": 11,
      "outputs": [
        {
          "output_type": "stream",
          "name": "stdout",
          "text": [
            "compute FID of a folder with FFHQ statistics\n",
            "Found 2048 images in the folder stable-diffusion/\n"
          ]
        },
        {
          "output_type": "stream",
          "name": "stderr",
          "text": [
            "FID  : 100%|██████████| 64/64 [00:12<00:00,  5.31it/s]\n"
          ]
        },
        {
          "output_type": "stream",
          "name": "stdout",
          "text": [
            "FFHQ FID Score is: 63.015810467529946\n"
          ]
        }
      ]
    },
    {
      "cell_type": "code",
      "source": [
        "# Stable Diffusion v1.4 Model:\n",
        "# FID Score between the generated images and the FFHQ dataset (256x256) or (1024x1024)\n",
        "from cleanfid import fid\n",
        "fdir1 = 'stable-diffusion/'\n",
        "fdir2 = 'ffhq/'\n",
        "score_FFHQ = fid.compute_fid(fdir1, fdir2)\n",
        "score_KID = fid.compute_kid(fdir1, fdir2)\n",
        "\n",
        "print('FFHQ FID Score is: '+ str(score_FFHQ))\n",
        "print('KID FID Score is: '+ str(score_KID))"
      ],
      "metadata": {
        "colab": {
          "base_uri": "https://localhost:8080/"
        },
        "id": "0vC1aMdZ_FUg",
        "outputId": "e7d1c52f-c517-4321-f6fa-dcb0cb21e6e7"
      },
      "execution_count": 12,
      "outputs": [
        {
          "output_type": "stream",
          "name": "stdout",
          "text": [
            "compute FID between two folders\n",
            "Found 2048 images in the folder stable-diffusion/\n"
          ]
        },
        {
          "output_type": "stream",
          "name": "stderr",
          "text": [
            "FID  : 100%|██████████| 64/64 [00:12<00:00,  5.27it/s]\n"
          ]
        },
        {
          "output_type": "stream",
          "name": "stdout",
          "text": [
            "Found 3143 images in the folder ffhq/\n"
          ]
        },
        {
          "output_type": "stream",
          "name": "stderr",
          "text": [
            "FID  : 100%|██████████| 99/99 [00:26<00:00,  3.69it/s]\n"
          ]
        },
        {
          "output_type": "stream",
          "name": "stdout",
          "text": [
            "compute KID between two folders\n",
            "Found 2048 images in the folder stable-diffusion/\n"
          ]
        },
        {
          "output_type": "stream",
          "name": "stderr",
          "text": [
            "KID  : 100%|██████████| 64/64 [00:12<00:00,  5.27it/s]\n"
          ]
        },
        {
          "output_type": "stream",
          "name": "stdout",
          "text": [
            "Found 3143 images in the folder ffhq/\n"
          ]
        },
        {
          "output_type": "stream",
          "name": "stderr",
          "text": [
            "KID  : 100%|██████████| 99/99 [00:27<00:00,  3.61it/s]\n"
          ]
        },
        {
          "output_type": "stream",
          "name": "stdout",
          "text": [
            "FFHQ FID Score is: 69.08278571022845\n",
            "KID FID Score is: 0.038527501854354364\n"
          ]
        }
      ]
    },
    {
      "cell_type": "code",
      "execution_count": null,
      "metadata": {
        "id": "CIqGfYQXiatH"
      },
      "outputs": [],
      "source": [
        "'''\n",
        "# CLIP_FID\n",
        "from cleanfid import fid\n",
        "sys.path.append('CLIP')\n",
        "score_CLIP = fid.compute_fid(fdir1, fdir2, mode=\"clean\", model_name=\"clip_vit_b_32\")\n",
        "print('CLIP FID Score is: '+ str(score_CLIP))\n",
        "'''"
      ]
    },
    {
      "cell_type": "code",
      "source": [
        "# To work below 2000 images:\n",
        "!python -m pytorch_fid dataset/images dalle2 --device cuda:0 --dims 64"
      ],
      "metadata": {
        "colab": {
          "base_uri": "https://localhost:8080/"
        },
        "id": "iQV73MN2Pgr1",
        "outputId": "1d07d959-119a-4cd6-f055-b5dc23ea87f0"
      },
      "execution_count": 3,
      "outputs": [
        {
          "output_type": "stream",
          "name": "stdout",
          "text": [
            "Downloading: \"https://github.com/mseitzer/pytorch-fid/releases/download/fid_weights/pt_inception-2015-12-05-6726825d.pth\" to /root/.cache/torch/hub/checkpoints/pt_inception-2015-12-05-6726825d.pth\n",
            "100% 91.2M/91.2M [00:00<00:00, 386MB/s]\n",
            "  0% 0/41 [00:00<?, ?it/s]/usr/lib/python3.10/multiprocessing/popen_fork.py:66: RuntimeWarning: os.fork() was called. os.fork() is incompatible with multithreaded code, and JAX is multithreaded, so this will likely lead to a deadlock.\n",
            "  self.pid = os.fork()\n",
            "100% 41/41 [00:05<00:00,  7.04it/s]\n",
            "100% 3/3 [00:04<00:00,  1.42s/it]\n",
            "FID:  2.4532938790749306\n"
          ]
        }
      ]
    }
  ],
  "metadata": {
    "accelerator": "GPU",
    "colab": {
      "gpuType": "L4",
      "machine_shape": "hm",
      "provenance": []
    },
    "kernelspec": {
      "display_name": "Python 3",
      "name": "python3"
    },
    "language_info": {
      "codemirror_mode": {
        "name": "ipython",
        "version": 3
      },
      "file_extension": ".py",
      "mimetype": "text/x-python",
      "name": "python",
      "nbconvert_exporter": "python",
      "pygments_lexer": "ipython3",
      "version": "3.8.17"
    }
  },
  "nbformat": 4,
  "nbformat_minor": 0
}